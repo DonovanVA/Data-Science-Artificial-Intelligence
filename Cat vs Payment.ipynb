{
 "cells": [
  {
   "cell_type": "code",
   "execution_count": 1,
   "id": "eeedcb4e",
   "metadata": {},
   "outputs": [],
   "source": [
    "# Basic Libraries\n",
    "import numpy as np\n",
    "import pandas as pd\n",
    "import seaborn as sb\n",
    "import matplotlib.pyplot as plt # we only need pyplot\n",
    "sb.set() # set the default Seaborn style for graphics"
   ]
  },
  {
   "cell_type": "code",
   "execution_count": 4,
   "id": "c80d4e39",
   "metadata": {},
   "outputs": [
    {
     "data": {
      "text/html": [
       "<div>\n",
       "<style scoped>\n",
       "    .dataframe tbody tr th:only-of-type {\n",
       "        vertical-align: middle;\n",
       "    }\n",
       "\n",
       "    .dataframe tbody tr th {\n",
       "        vertical-align: top;\n",
       "    }\n",
       "\n",
       "    .dataframe thead th {\n",
       "        text-align: right;\n",
       "    }\n",
       "</style>\n",
       "<table border=\"1\" class=\"dataframe\">\n",
       "  <thead>\n",
       "    <tr style=\"text-align: right;\">\n",
       "      <th></th>\n",
       "      <th>tenure</th>\n",
       "      <th>tenure_cat</th>\n",
       "      <th>PhoneService</th>\n",
       "      <th>MultipleLines</th>\n",
       "      <th>MonthlyCharges</th>\n",
       "      <th>TotalCharges</th>\n",
       "      <th>Churn</th>\n",
       "    </tr>\n",
       "    <tr>\n",
       "      <th>#</th>\n",
       "      <th></th>\n",
       "      <th></th>\n",
       "      <th></th>\n",
       "      <th></th>\n",
       "      <th></th>\n",
       "      <th></th>\n",
       "      <th></th>\n",
       "    </tr>\n",
       "  </thead>\n",
       "  <tbody>\n",
       "    <tr>\n",
       "      <th>29</th>\n",
       "      <td>72</td>\n",
       "      <td>Cat 8</td>\n",
       "      <td>1</td>\n",
       "      <td>1</td>\n",
       "      <td>90.25</td>\n",
       "      <td>6369.45</td>\n",
       "      <td>No</td>\n",
       "    </tr>\n",
       "    <tr>\n",
       "      <th>36</th>\n",
       "      <td>72</td>\n",
       "      <td>Cat 8</td>\n",
       "      <td>1</td>\n",
       "      <td>1</td>\n",
       "      <td>99.90</td>\n",
       "      <td>7251.7</td>\n",
       "      <td>No</td>\n",
       "    </tr>\n",
       "    <tr>\n",
       "      <th>60</th>\n",
       "      <td>72</td>\n",
       "      <td>Cat 8</td>\n",
       "      <td>1</td>\n",
       "      <td>1</td>\n",
       "      <td>107.50</td>\n",
       "      <td>7853.7</td>\n",
       "      <td>No</td>\n",
       "    </tr>\n",
       "    <tr>\n",
       "      <th>63</th>\n",
       "      <td>72</td>\n",
       "      <td>Cat 8</td>\n",
       "      <td>0</td>\n",
       "      <td>0</td>\n",
       "      <td>42.10</td>\n",
       "      <td>2962</td>\n",
       "      <td>No</td>\n",
       "    </tr>\n",
       "    <tr>\n",
       "      <th>95</th>\n",
       "      <td>72</td>\n",
       "      <td>Cat 8</td>\n",
       "      <td>1</td>\n",
       "      <td>1</td>\n",
       "      <td>100.90</td>\n",
       "      <td>7459.05</td>\n",
       "      <td>No</td>\n",
       "    </tr>\n",
       "    <tr>\n",
       "      <th>...</th>\n",
       "      <td>...</td>\n",
       "      <td>...</td>\n",
       "      <td>...</td>\n",
       "      <td>...</td>\n",
       "      <td>...</td>\n",
       "      <td>...</td>\n",
       "      <td>...</td>\n",
       "    </tr>\n",
       "    <tr>\n",
       "      <th>3827</th>\n",
       "      <td>0</td>\n",
       "      <td>Cat 1</td>\n",
       "      <td>1</td>\n",
       "      <td>1</td>\n",
       "      <td>25.35</td>\n",
       "      <td></td>\n",
       "      <td>No</td>\n",
       "    </tr>\n",
       "    <tr>\n",
       "      <th>4381</th>\n",
       "      <td>0</td>\n",
       "      <td>Cat 1</td>\n",
       "      <td>1</td>\n",
       "      <td>0</td>\n",
       "      <td>20.00</td>\n",
       "      <td></td>\n",
       "      <td>No</td>\n",
       "    </tr>\n",
       "    <tr>\n",
       "      <th>5219</th>\n",
       "      <td>0</td>\n",
       "      <td>Cat 1</td>\n",
       "      <td>1</td>\n",
       "      <td>0</td>\n",
       "      <td>19.70</td>\n",
       "      <td></td>\n",
       "      <td>No</td>\n",
       "    </tr>\n",
       "    <tr>\n",
       "      <th>6671</th>\n",
       "      <td>0</td>\n",
       "      <td>Cat 1</td>\n",
       "      <td>1</td>\n",
       "      <td>1</td>\n",
       "      <td>73.35</td>\n",
       "      <td></td>\n",
       "      <td>No</td>\n",
       "    </tr>\n",
       "    <tr>\n",
       "      <th>6755</th>\n",
       "      <td>0</td>\n",
       "      <td>Cat 1</td>\n",
       "      <td>1</td>\n",
       "      <td>1</td>\n",
       "      <td>61.90</td>\n",
       "      <td></td>\n",
       "      <td>No</td>\n",
       "    </tr>\n",
       "  </tbody>\n",
       "</table>\n",
       "<p>7043 rows × 7 columns</p>\n",
       "</div>"
      ],
      "text/plain": [
       "      tenure tenure_cat  PhoneService  MultipleLines  MonthlyCharges  \\\n",
       "#                                                                      \n",
       "29        72      Cat 8             1              1           90.25   \n",
       "36        72      Cat 8             1              1           99.90   \n",
       "60        72      Cat 8             1              1          107.50   \n",
       "63        72      Cat 8             0              0           42.10   \n",
       "95        72      Cat 8             1              1          100.90   \n",
       "...      ...        ...           ...            ...             ...   \n",
       "3827       0      Cat 1             1              1           25.35   \n",
       "4381       0      Cat 1             1              0           20.00   \n",
       "5219       0      Cat 1             1              0           19.70   \n",
       "6671       0      Cat 1             1              1           73.35   \n",
       "6755       0      Cat 1             1              1           61.90   \n",
       "\n",
       "     TotalCharges Churn  \n",
       "#                        \n",
       "29        6369.45    No  \n",
       "36         7251.7    No  \n",
       "60         7853.7    No  \n",
       "63           2962    No  \n",
       "95        7459.05    No  \n",
       "...           ...   ...  \n",
       "3827                 No  \n",
       "4381                 No  \n",
       "5219                 No  \n",
       "6671                 No  \n",
       "6755                 No  \n",
       "\n",
       "[7043 rows x 7 columns]"
      ]
     },
     "execution_count": 4,
     "metadata": {},
     "output_type": "execute_result"
    }
   ],
   "source": [
    "full_dataframe = pd.read_csv(\"cat_tenure.csv\", index_col=0, parse_dates=True)\n",
    "full_dataframe"
   ]
  },
  {
   "cell_type": "code",
   "execution_count": 30,
   "id": "67b3525f",
   "metadata": {},
   "outputs": [
    {
     "data": {
      "text/html": [
       "<div>\n",
       "<style scoped>\n",
       "    .dataframe tbody tr th:only-of-type {\n",
       "        vertical-align: middle;\n",
       "    }\n",
       "\n",
       "    .dataframe tbody tr th {\n",
       "        vertical-align: top;\n",
       "    }\n",
       "\n",
       "    .dataframe thead th {\n",
       "        text-align: right;\n",
       "    }\n",
       "</style>\n",
       "<table border=\"1\" class=\"dataframe\">\n",
       "  <thead>\n",
       "    <tr style=\"text-align: right;\">\n",
       "      <th></th>\n",
       "      <th>tenure_cat</th>\n",
       "      <th>MonthlyCharges</th>\n",
       "      <th>TotalCharges</th>\n",
       "      <th>Churn</th>\n",
       "    </tr>\n",
       "    <tr>\n",
       "      <th>#</th>\n",
       "      <th></th>\n",
       "      <th></th>\n",
       "      <th></th>\n",
       "      <th></th>\n",
       "    </tr>\n",
       "  </thead>\n",
       "  <tbody>\n",
       "    <tr>\n",
       "      <th>29</th>\n",
       "      <td>Cat 8</td>\n",
       "      <td>90.25</td>\n",
       "      <td>6369.45</td>\n",
       "      <td>No</td>\n",
       "    </tr>\n",
       "    <tr>\n",
       "      <th>36</th>\n",
       "      <td>Cat 8</td>\n",
       "      <td>99.90</td>\n",
       "      <td>7251.7</td>\n",
       "      <td>No</td>\n",
       "    </tr>\n",
       "    <tr>\n",
       "      <th>60</th>\n",
       "      <td>Cat 8</td>\n",
       "      <td>107.50</td>\n",
       "      <td>7853.7</td>\n",
       "      <td>No</td>\n",
       "    </tr>\n",
       "    <tr>\n",
       "      <th>63</th>\n",
       "      <td>Cat 8</td>\n",
       "      <td>42.10</td>\n",
       "      <td>2962</td>\n",
       "      <td>No</td>\n",
       "    </tr>\n",
       "    <tr>\n",
       "      <th>95</th>\n",
       "      <td>Cat 8</td>\n",
       "      <td>100.90</td>\n",
       "      <td>7459.05</td>\n",
       "      <td>No</td>\n",
       "    </tr>\n",
       "    <tr>\n",
       "      <th>...</th>\n",
       "      <td>...</td>\n",
       "      <td>...</td>\n",
       "      <td>...</td>\n",
       "      <td>...</td>\n",
       "    </tr>\n",
       "    <tr>\n",
       "      <th>3827</th>\n",
       "      <td>Cat 1</td>\n",
       "      <td>25.35</td>\n",
       "      <td></td>\n",
       "      <td>No</td>\n",
       "    </tr>\n",
       "    <tr>\n",
       "      <th>4381</th>\n",
       "      <td>Cat 1</td>\n",
       "      <td>20.00</td>\n",
       "      <td></td>\n",
       "      <td>No</td>\n",
       "    </tr>\n",
       "    <tr>\n",
       "      <th>5219</th>\n",
       "      <td>Cat 1</td>\n",
       "      <td>19.70</td>\n",
       "      <td></td>\n",
       "      <td>No</td>\n",
       "    </tr>\n",
       "    <tr>\n",
       "      <th>6671</th>\n",
       "      <td>Cat 1</td>\n",
       "      <td>73.35</td>\n",
       "      <td></td>\n",
       "      <td>No</td>\n",
       "    </tr>\n",
       "    <tr>\n",
       "      <th>6755</th>\n",
       "      <td>Cat 1</td>\n",
       "      <td>61.90</td>\n",
       "      <td></td>\n",
       "      <td>No</td>\n",
       "    </tr>\n",
       "  </tbody>\n",
       "</table>\n",
       "<p>7043 rows × 4 columns</p>\n",
       "</div>"
      ],
      "text/plain": [
       "     tenure_cat  MonthlyCharges TotalCharges Churn\n",
       "#                                                 \n",
       "29        Cat 8           90.25      6369.45    No\n",
       "36        Cat 8           99.90       7251.7    No\n",
       "60        Cat 8          107.50       7853.7    No\n",
       "63        Cat 8           42.10         2962    No\n",
       "95        Cat 8          100.90      7459.05    No\n",
       "...         ...             ...          ...   ...\n",
       "3827      Cat 1           25.35                 No\n",
       "4381      Cat 1           20.00                 No\n",
       "5219      Cat 1           19.70                 No\n",
       "6671      Cat 1           73.35                 No\n",
       "6755      Cat 1           61.90                 No\n",
       "\n",
       "[7043 rows x 4 columns]"
      ]
     },
     "execution_count": 30,
     "metadata": {},
     "output_type": "execute_result"
    }
   ],
   "source": [
    "problem1 = pd.DataFrame(full_dataframe, columns=['tenure_cat', 'MonthlyCharges', 'TotalCharges','Churn'])\n",
    "problem1"
   ]
  },
  {
   "cell_type": "code",
   "execution_count": 31,
   "id": "819da219",
   "metadata": {},
   "outputs": [
    {
     "name": "stdout",
     "output_type": "stream",
     "text": [
      "Cat 1    1970\n",
      "Cat 2     908\n",
      "Cat 7     875\n",
      "Cat 3     763\n",
      "Cat 6     698\n",
      "Cat 5     652\n",
      "Cat 4     645\n",
      "Cat 8     532\n",
      "Name: tenure_cat, dtype: int64\n"
     ]
    },
    {
     "data": {
      "text/plain": [
       "<seaborn.axisgrid.FacetGrid at 0x7feb102f1fd0>"
      ]
     },
     "execution_count": 31,
     "metadata": {},
     "output_type": "execute_result"
    },
    {
     "data": {
      "image/png": "[encoded data removed]",
      "text/plain": [
       "<Figure size 576x576 with 1 Axes>"
      ]
     },
     "metadata": {},
     "output_type": "display_data"
    }
   ],
   "source": [
    "print(problem1[\"tenure_cat\"].value_counts())\n",
    "sb.catplot(y = \"tenure_cat\", data = problem1, kind = \"count\", height = 8)"
   ]
  },
  {
   "cell_type": "code",
   "execution_count": 32,
   "id": "41d51df9",
   "metadata": {},
   "outputs": [
    {
     "data": {
      "text/plain": [
       "<seaborn.axisgrid.FacetGrid at 0x7feb00306040>"
      ]
     },
     "execution_count": 32,
     "metadata": {},
     "output_type": "execute_result"
    },
    {
     "data": {
      "image/png": "[encoded data removed]",
      "text/plain": [
       "<Figure size 2016x504 with 1 Axes>"
      ]
     },
     "metadata": {},
     "output_type": "display_data"
    }
   ],
   "source": [
    "sb.catplot(data=problem1, x='tenure_cat', y='MonthlyCharges', height=7, aspect=4, kind=\"box\"\n",
    "           ,order=problem1.groupby('tenure_cat')['MonthlyCharges'].median().sort_values().index)"
   ]
  },
  {
   "cell_type": "markdown",
   "id": "422630ca",
   "metadata": {},
   "source": [
    "# Which category will most likely to churn?"
   ]
  },
  {
   "cell_type": "code",
   "execution_count": 33,
   "id": "b294f0b2",
   "metadata": {},
   "outputs": [],
   "source": [
    "import matplotlib.pyplot as plt\n",
    "import seaborn as sns\n",
    "import plotly.express as px"
   ]
  },
  {
   "cell_type": "code",
   "execution_count": 34,
   "id": "44e3d52a",
   "metadata": {},
   "outputs": [
    {
     "data": {
      "image/png": "[encoded data removed]",
      "text/plain": [
       "<Figure size 432x288 with 1 Axes>"
      ]
     },
     "metadata": {},
     "output_type": "display_data"
    }
   ],
   "source": [
    "fig_churn_phone_service = sns.countplot(x=\"tenure_cat\",hue=\"Churn\",data=problem1)\n",
    "plt.show()"
   ]
  },
  {
   "cell_type": "code",
   "execution_count": null,
   "id": "e19f6d84",
   "metadata": {},
   "outputs": [],
   "source": []
  }
 ],
 "metadata": {
  "kernelspec": {
   "display_name": "Python 3 (ipykernel)",
   "language": "python",
   "name": "python3"
  },
  "language_info": {
   "codemirror_mode": {
    "name": "ipython",
    "version": 3
   },
   "file_extension": ".py",
   "mimetype": "text/x-python",
   "name": "python",
   "nbconvert_exporter": "python",
   "pygments_lexer": "ipython3",
   "version": "3.9.7"
  }
 },
 "nbformat": 4,
 "nbformat_minor": 5
}
